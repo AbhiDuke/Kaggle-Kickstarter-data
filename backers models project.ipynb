{
 "cells": [
  {
   "cell_type": "code",
   "execution_count": 2,
   "metadata": {
    "collapsed": true
   },
   "outputs": [],
   "source": [
    "import pandas as pd\n",
    "import numpy as np\n",
    "import matplotlib.pyplot as plt\n",
    "import seaborn as sns\n",
    "%matplotlib inline\n",
    "\n",
    "d = pd.read_csv('cleaned_kickstarterFinal.csv',encoding='latin1')"
   ]
  },
  {
   "cell_type": "code",
   "execution_count": 3,
   "metadata": {},
   "outputs": [
    {
     "data": {
      "text/html": [
       "<div>\n",
       "<style>\n",
       "    .dataframe thead tr:only-child th {\n",
       "        text-align: right;\n",
       "    }\n",
       "\n",
       "    .dataframe thead th {\n",
       "        text-align: left;\n",
       "    }\n",
       "\n",
       "    .dataframe tbody tr th {\n",
       "        vertical-align: top;\n",
       "    }\n",
       "</style>\n",
       "<table border=\"1\" class=\"dataframe\">\n",
       "  <thead>\n",
       "    <tr style=\"text-align: right;\">\n",
       "      <th></th>\n",
       "      <th>state</th>\n",
       "      <th>backers</th>\n",
       "      <th>main_category_Comics</th>\n",
       "      <th>main_category_Crafts</th>\n",
       "      <th>main_category_Dance</th>\n",
       "      <th>main_category_Design</th>\n",
       "      <th>main_category_Fashion</th>\n",
       "      <th>main_category_Film &amp; Video</th>\n",
       "      <th>main_category_Food</th>\n",
       "      <th>main_category_Games</th>\n",
       "      <th>...</th>\n",
       "      <th>main_category_Publishing</th>\n",
       "      <th>main_category_Technology</th>\n",
       "      <th>main_category_Theater</th>\n",
       "      <th>goal_cat_Low</th>\n",
       "      <th>goal_cat_Medium</th>\n",
       "      <th>goal_cat_VeryHigh</th>\n",
       "      <th>goal_cat_VeryLow</th>\n",
       "      <th>duration_cat_Medium</th>\n",
       "      <th>duration_cat_Short</th>\n",
       "      <th>duration_cat_VeryLong</th>\n",
       "    </tr>\n",
       "  </thead>\n",
       "  <tbody>\n",
       "    <tr>\n",
       "      <th>0</th>\n",
       "      <td>0</td>\n",
       "      <td>15.0</td>\n",
       "      <td>0</td>\n",
       "      <td>0</td>\n",
       "      <td>0</td>\n",
       "      <td>0</td>\n",
       "      <td>0</td>\n",
       "      <td>1</td>\n",
       "      <td>0</td>\n",
       "      <td>0</td>\n",
       "      <td>...</td>\n",
       "      <td>0</td>\n",
       "      <td>0</td>\n",
       "      <td>0</td>\n",
       "      <td>0</td>\n",
       "      <td>0</td>\n",
       "      <td>1</td>\n",
       "      <td>0</td>\n",
       "      <td>0</td>\n",
       "      <td>0</td>\n",
       "      <td>1</td>\n",
       "    </tr>\n",
       "    <tr>\n",
       "      <th>1</th>\n",
       "      <td>0</td>\n",
       "      <td>3.0</td>\n",
       "      <td>0</td>\n",
       "      <td>0</td>\n",
       "      <td>0</td>\n",
       "      <td>0</td>\n",
       "      <td>0</td>\n",
       "      <td>1</td>\n",
       "      <td>0</td>\n",
       "      <td>0</td>\n",
       "      <td>...</td>\n",
       "      <td>0</td>\n",
       "      <td>0</td>\n",
       "      <td>0</td>\n",
       "      <td>0</td>\n",
       "      <td>0</td>\n",
       "      <td>1</td>\n",
       "      <td>0</td>\n",
       "      <td>1</td>\n",
       "      <td>0</td>\n",
       "      <td>0</td>\n",
       "    </tr>\n",
       "    <tr>\n",
       "      <th>2</th>\n",
       "      <td>0</td>\n",
       "      <td>1.0</td>\n",
       "      <td>0</td>\n",
       "      <td>0</td>\n",
       "      <td>0</td>\n",
       "      <td>0</td>\n",
       "      <td>0</td>\n",
       "      <td>0</td>\n",
       "      <td>0</td>\n",
       "      <td>0</td>\n",
       "      <td>...</td>\n",
       "      <td>0</td>\n",
       "      <td>0</td>\n",
       "      <td>0</td>\n",
       "      <td>0</td>\n",
       "      <td>1</td>\n",
       "      <td>0</td>\n",
       "      <td>0</td>\n",
       "      <td>0</td>\n",
       "      <td>0</td>\n",
       "      <td>0</td>\n",
       "    </tr>\n",
       "    <tr>\n",
       "      <th>3</th>\n",
       "      <td>1</td>\n",
       "      <td>224.0</td>\n",
       "      <td>0</td>\n",
       "      <td>0</td>\n",
       "      <td>0</td>\n",
       "      <td>0</td>\n",
       "      <td>0</td>\n",
       "      <td>0</td>\n",
       "      <td>1</td>\n",
       "      <td>0</td>\n",
       "      <td>...</td>\n",
       "      <td>0</td>\n",
       "      <td>0</td>\n",
       "      <td>0</td>\n",
       "      <td>0</td>\n",
       "      <td>0</td>\n",
       "      <td>1</td>\n",
       "      <td>0</td>\n",
       "      <td>0</td>\n",
       "      <td>0</td>\n",
       "      <td>1</td>\n",
       "    </tr>\n",
       "    <tr>\n",
       "      <th>4</th>\n",
       "      <td>1</td>\n",
       "      <td>16.0</td>\n",
       "      <td>0</td>\n",
       "      <td>0</td>\n",
       "      <td>0</td>\n",
       "      <td>0</td>\n",
       "      <td>0</td>\n",
       "      <td>0</td>\n",
       "      <td>1</td>\n",
       "      <td>0</td>\n",
       "      <td>...</td>\n",
       "      <td>0</td>\n",
       "      <td>0</td>\n",
       "      <td>0</td>\n",
       "      <td>0</td>\n",
       "      <td>0</td>\n",
       "      <td>0</td>\n",
       "      <td>1</td>\n",
       "      <td>1</td>\n",
       "      <td>0</td>\n",
       "      <td>0</td>\n",
       "    </tr>\n",
       "  </tbody>\n",
       "</table>\n",
       "<p>5 rows × 23 columns</p>\n",
       "</div>"
      ],
      "text/plain": [
       "   state  backers  main_category_Comics  main_category_Crafts  \\\n",
       "0      0     15.0                     0                     0   \n",
       "1      0      3.0                     0                     0   \n",
       "2      0      1.0                     0                     0   \n",
       "3      1    224.0                     0                     0   \n",
       "4      1     16.0                     0                     0   \n",
       "\n",
       "   main_category_Dance  main_category_Design  main_category_Fashion  \\\n",
       "0                    0                     0                      0   \n",
       "1                    0                     0                      0   \n",
       "2                    0                     0                      0   \n",
       "3                    0                     0                      0   \n",
       "4                    0                     0                      0   \n",
       "\n",
       "   main_category_Film & Video  main_category_Food  main_category_Games  \\\n",
       "0                           1                   0                    0   \n",
       "1                           1                   0                    0   \n",
       "2                           0                   0                    0   \n",
       "3                           0                   1                    0   \n",
       "4                           0                   1                    0   \n",
       "\n",
       "           ...            main_category_Publishing  main_category_Technology  \\\n",
       "0          ...                                   0                         0   \n",
       "1          ...                                   0                         0   \n",
       "2          ...                                   0                         0   \n",
       "3          ...                                   0                         0   \n",
       "4          ...                                   0                         0   \n",
       "\n",
       "   main_category_Theater  goal_cat_Low  goal_cat_Medium  goal_cat_VeryHigh  \\\n",
       "0                      0             0                0                  1   \n",
       "1                      0             0                0                  1   \n",
       "2                      0             0                1                  0   \n",
       "3                      0             0                0                  1   \n",
       "4                      0             0                0                  0   \n",
       "\n",
       "   goal_cat_VeryLow  duration_cat_Medium  duration_cat_Short  \\\n",
       "0                 0                    0                   0   \n",
       "1                 0                    1                   0   \n",
       "2                 0                    0                   0   \n",
       "3                 0                    0                   0   \n",
       "4                 1                    1                   0   \n",
       "\n",
       "   duration_cat_VeryLong  \n",
       "0                      1  \n",
       "1                      0  \n",
       "2                      0  \n",
       "3                      1  \n",
       "4                      0  \n",
       "\n",
       "[5 rows x 23 columns]"
      ]
     },
     "execution_count": 3,
     "metadata": {},
     "output_type": "execute_result"
    }
   ],
   "source": [
    "d.head()"
   ]
  },
  {
   "cell_type": "code",
   "execution_count": 4,
   "metadata": {},
   "outputs": [
    {
     "name": "stderr",
     "output_type": "stream",
     "text": [
      "C:\\Users\\AB Duke\\Anaconda3\\lib\\site-packages\\sklearn\\cross_validation.py:41: DeprecationWarning: This module was deprecated in version 0.18 in favor of the model_selection module into which all the refactored classes and functions are moved. Also note that the interface of the new CV iterators are different from that of this module. This module will be removed in 0.20.\n",
      "  \"This module will be removed in 0.20.\", DeprecationWarning)\n"
     ]
    },
    {
     "name": "stdout",
     "output_type": "stream",
     "text": [
      "[[42962  3187]\n",
      " [ 3972 26945]]\n",
      "\n",
      "\n",
      "             precision    recall  f1-score   support\n",
      "\n",
      "          0       0.92      0.93      0.92     46149\n",
      "          1       0.89      0.87      0.88     30917\n",
      "\n",
      "avg / total       0.91      0.91      0.91     77066\n",
      "\n",
      "\n",
      "\n",
      "0.9071055977992889\n"
     ]
    }
   ],
   "source": [
    "# Decisoin trees for backers included model \n",
    "\n",
    "from sklearn.cross_validation import train_test_split\n",
    "X=d.drop('state',axis=1,)\n",
    "y=d['state']\n",
    "X_train, X_test, y_train, y_test = train_test_split(X, y, test_size=0.30,stratify=y )\n",
    "from sklearn.tree import DecisionTreeClassifier\n",
    "dtree=DecisionTreeClassifier(criterion='gini')\n",
    "dtree.fit(X_train,y_train)\n",
    "prediction = dtree.predict(X_test)\n",
    "from sklearn.metrics import classification_report,confusion_matrix,accuracy_score\n",
    "print (confusion_matrix(y_test,prediction))\n",
    "print('\\n')\n",
    "print (classification_report(y_test,prediction))\n",
    "print('\\n')\n",
    "print (accuracy_score(y_test,prediction))"
   ]
  },
  {
   "cell_type": "code",
   "execution_count": 5,
   "metadata": {},
   "outputs": [
    {
     "name": "stdout",
     "output_type": "stream",
     "text": [
      "Accuracy on training set: 0.946\n",
      "Accuracy on test set: 0.907\n"
     ]
    }
   ],
   "source": [
    "print(\"Accuracy on training set: {:.3f}\".format(dtree.score(X_train, y_train)))\n",
    "print(\"Accuracy on test set: {:.3f}\".format(dtree.score(X_test, y_test)))"
   ]
  },
  {
   "cell_type": "code",
   "execution_count": 6,
   "metadata": {},
   "outputs": [
    {
     "name": "stdout",
     "output_type": "stream",
     "text": [
      "[[42612  3537]\n",
      " [ 3322 27595]]\n",
      "\n",
      "\n",
      "             precision    recall  f1-score   support\n",
      "\n",
      "          0       0.93      0.92      0.93     46149\n",
      "          1       0.89      0.89      0.89     30917\n",
      "\n",
      "avg / total       0.91      0.91      0.91     77066\n",
      "\n",
      "\n",
      "\n",
      "0.9109983650377599\n"
     ]
    }
   ],
   "source": [
    "# Random forest for new backers data set\n",
    "\n",
    "from sklearn.ensemble import RandomForestClassifier\n",
    "rfc = RandomForestClassifier(n_estimators=1000,criterion='gini')\n",
    "rfc.fit(X_train,y_train)\n",
    "rfc_pred = rfc.predict(X_test)\n",
    "print (confusion_matrix(y_test,rfc_pred))\n",
    "print('\\n')\n",
    "print (classification_report(y_test,rfc_pred))\n",
    "print('\\n')\n",
    "print (accuracy_score(y_test,rfc_pred))\n",
    "\n"
   ]
  },
  {
   "cell_type": "code",
   "execution_count": 8,
   "metadata": {},
   "outputs": [
    {
     "name": "stdout",
     "output_type": "stream",
     "text": [
      "Accuracy on training set: 0.946\n",
      "Accuracy on test set: 0.911\n"
     ]
    }
   ],
   "source": [
    "print(\"Accuracy on training set: {:.3f}\".format(rfc.score(X_train, y_train)))\n",
    "print(\"Accuracy on test set: {:.3f}\".format(rfc.score(X_test, y_test)))"
   ]
  },
  {
   "cell_type": "code",
   "execution_count": 10,
   "metadata": {},
   "outputs": [],
   "source": [
    "from sklearn.ensemble import GradientBoostingClassifier\n",
    "gradt=GradientBoostingClassifier(random_state=0,max_depth=3)\n",
    "gradt.fit(X_train,y_train)\n",
    "gradpred = gradt.predict(X_test)\n"
   ]
  },
  {
   "cell_type": "code",
   "execution_count": 11,
   "metadata": {},
   "outputs": [
    {
     "name": "stdout",
     "output_type": "stream",
     "text": [
      "[[42609  3540]\n",
      " [ 2272 28645]]\n",
      "\n",
      "\n",
      "             precision    recall  f1-score   support\n",
      "\n",
      "          0       0.95      0.92      0.94     46149\n",
      "          1       0.89      0.93      0.91     30917\n",
      "\n",
      "avg / total       0.93      0.92      0.92     77066\n",
      "\n",
      "\n",
      "\n",
      "0.9245841227000233\n",
      "Accuracy on training set:0.924\n",
      "Accuracy on testing set:0.925\n"
     ]
    }
   ],
   "source": [
    "print (confusion_matrix(y_test,gradpred))\n",
    "print('\\n')\n",
    "print (classification_report(y_test,gradpred))\n",
    "print('\\n')\n",
    "print (accuracy_score(y_test,gradpred))\n",
    "print ('Accuracy on training set:{:.3f}'.format(gradt.score(X_train,y_train)))\n",
    "print ('Accuracy on testing set:{:.3f}'.format(gradt.score(X_test,y_test)))\n"
   ]
  },
  {
   "cell_type": "code",
   "execution_count": 10,
   "metadata": {},
   "outputs": [
    {
     "data": {
      "text/plain": [
       "(256886, 4)"
      ]
     },
     "execution_count": 10,
     "metadata": {},
     "output_type": "execute_result"
    }
   ],
   "source": [
    "#pca 2 comp\n",
    "from sklearn.decomposition import PCA\n",
    "pca = PCA(n_components=4)\n",
    "pca.fit(X)\n",
    "x_pca= pca.transform(X)\n",
    "x_pca.shape"
   ]
  },
  {
   "cell_type": "code",
   "execution_count": 11,
   "metadata": {},
   "outputs": [
    {
     "data": {
      "text/plain": [
       "Text(0,0.5,'second PC')"
      ]
     },
     "execution_count": 11,
     "metadata": {},
     "output_type": "execute_result"
    },
    {
     "data": {
      "image/png": "[encoded data removed]",
      "text/plain": [
       "<matplotlib.figure.Figure at 0x1f844797ac8>"
      ]
     },
     "metadata": {},
     "output_type": "display_data"
    }
   ],
   "source": [
    "plt.figure(figsize=(10,6))\n",
    "plt.scatter(x_pca[:,0],x_pca[:,0],c=y,cmap='plasma')\n",
    "plt.xlabel('First PC')\n",
    "plt.ylabel('second PC')"
   ]
  },
  {
   "cell_type": "code",
   "execution_count": 12,
   "metadata": {},
   "outputs": [
    {
     "data": {
      "text/plain": [
       "array([[ 9.99999999e-01,  2.12912065e-08, -1.09929911e-06,\n",
       "        -5.98135024e-07,  1.30931443e-05, -3.02211313e-06,\n",
       "        -8.83931940e-06, -3.01853005e-06,  2.57180018e-05,\n",
       "        -3.02590745e-07, -9.43143331e-06, -1.44362447e-06,\n",
       "        -6.71414682e-06,  2.27956186e-06, -1.73626791e-06,\n",
       "        -1.57274893e-05, -9.53415477e-06,  2.92495254e-05,\n",
       "        -1.22836936e-05,  1.68605747e-06, -8.10408919e-07,\n",
       "        -1.09832263e-06],\n",
       "       [ 2.29349728e-06,  1.59615157e-05,  1.94982946e-04,\n",
       "        -1.49433949e-05, -3.38746357e-04, -1.80574109e-03,\n",
       "        -7.72016477e-05,  5.47649482e-04, -3.64327772e-04,\n",
       "        -1.37673430e-04,  2.81161326e-04,  1.16659997e-04,\n",
       "         1.88794530e-03, -1.60530144e-03,  1.06463159e-03,\n",
       "        -5.73800666e-03,  7.04735626e-03, -4.44523018e-03,\n",
       "         1.31685867e-03, -8.60534684e-01,  3.54208107e-01,\n",
       "         3.65925336e-01],\n",
       "       [ 6.57246259e-06,  8.92839870e-04, -1.68269594e-03,\n",
       "        -1.19480484e-03, -6.85742086e-03,  3.73998446e-03,\n",
       "        -1.91676599e-02, -1.27034637e-03,  9.88571802e-03,\n",
       "        -1.08856793e-04,  2.37180489e-02,  1.09871516e-03,\n",
       "         4.66879268e-02, -4.19308726e-02, -5.53784776e-03,\n",
       "        -4.94661627e-01,  8.31084862e-01, -2.36008539e-01,\n",
       "        -6.09556887e-02,  9.21524742e-03,  1.25811217e-03,\n",
       "        -6.36355620e-03],\n",
       "       [ 3.42820327e-05,  2.01782733e-02,  6.33886130e-03,\n",
       "         8.11023455e-03, -8.30999969e-02,  5.66143954e-03,\n",
       "        -1.89498299e-01, -4.84770916e-02, -3.29332548e-02,\n",
       "        -6.83205945e-04,  3.20014824e-01,  1.30971929e-02,\n",
       "         9.32801742e-02, -1.68461928e-01,  2.12240126e-02,\n",
       "         5.87938733e-01,  1.31548308e-01, -6.70864329e-01,\n",
       "        -5.37506044e-03,  6.55113683e-04, -4.41496220e-03,\n",
       "         2.78430297e-03]])"
      ]
     },
     "execution_count": 12,
     "metadata": {},
     "output_type": "execute_result"
    }
   ],
   "source": [
    "pca.components_"
   ]
  },
  {
   "cell_type": "code",
   "execution_count": 14,
   "metadata": {},
   "outputs": [
    {
     "data": {
      "text/html": [
       "<div>\n",
       "<style>\n",
       "    .dataframe thead tr:only-child th {\n",
       "        text-align: right;\n",
       "    }\n",
       "\n",
       "    .dataframe thead th {\n",
       "        text-align: left;\n",
       "    }\n",
       "\n",
       "    .dataframe tbody tr th {\n",
       "        vertical-align: top;\n",
       "    }\n",
       "</style>\n",
       "<table border=\"1\" class=\"dataframe\">\n",
       "  <thead>\n",
       "    <tr style=\"text-align: right;\">\n",
       "      <th></th>\n",
       "      <th>backers</th>\n",
       "      <th>main_category_Comics</th>\n",
       "      <th>main_category_Crafts</th>\n",
       "      <th>main_category_Dance</th>\n",
       "      <th>main_category_Design</th>\n",
       "      <th>main_category_Fashion</th>\n",
       "      <th>main_category_Film &amp; Video</th>\n",
       "      <th>main_category_Food</th>\n",
       "      <th>main_category_Games</th>\n",
       "      <th>main_category_Journalism</th>\n",
       "      <th>...</th>\n",
       "      <th>main_category_Publishing</th>\n",
       "      <th>main_category_Technology</th>\n",
       "      <th>main_category_Theater</th>\n",
       "      <th>goal_cat_Low</th>\n",
       "      <th>goal_cat_Medium</th>\n",
       "      <th>goal_cat_VeryHigh</th>\n",
       "      <th>goal_cat_VeryLow</th>\n",
       "      <th>duration_cat_Medium</th>\n",
       "      <th>duration_cat_Short</th>\n",
       "      <th>duration_cat_VeryLong</th>\n",
       "    </tr>\n",
       "  </thead>\n",
       "  <tbody>\n",
       "    <tr>\n",
       "      <th>0</th>\n",
       "      <td>1.000000</td>\n",
       "      <td>2.129121e-08</td>\n",
       "      <td>-0.000001</td>\n",
       "      <td>-5.981350e-07</td>\n",
       "      <td>0.000013</td>\n",
       "      <td>-0.000003</td>\n",
       "      <td>-0.000009</td>\n",
       "      <td>-0.000003</td>\n",
       "      <td>0.000026</td>\n",
       "      <td>-3.025907e-07</td>\n",
       "      <td>...</td>\n",
       "      <td>-0.000007</td>\n",
       "      <td>0.000002</td>\n",
       "      <td>-0.000002</td>\n",
       "      <td>-0.000016</td>\n",
       "      <td>-0.000010</td>\n",
       "      <td>0.000029</td>\n",
       "      <td>-0.000012</td>\n",
       "      <td>0.000002</td>\n",
       "      <td>-8.104089e-07</td>\n",
       "      <td>-0.000001</td>\n",
       "    </tr>\n",
       "    <tr>\n",
       "      <th>1</th>\n",
       "      <td>0.000002</td>\n",
       "      <td>1.596152e-05</td>\n",
       "      <td>0.000195</td>\n",
       "      <td>-1.494339e-05</td>\n",
       "      <td>-0.000339</td>\n",
       "      <td>-0.001806</td>\n",
       "      <td>-0.000077</td>\n",
       "      <td>0.000548</td>\n",
       "      <td>-0.000364</td>\n",
       "      <td>-1.376734e-04</td>\n",
       "      <td>...</td>\n",
       "      <td>0.001888</td>\n",
       "      <td>-0.001605</td>\n",
       "      <td>0.001065</td>\n",
       "      <td>-0.005738</td>\n",
       "      <td>0.007047</td>\n",
       "      <td>-0.004445</td>\n",
       "      <td>0.001317</td>\n",
       "      <td>-0.860535</td>\n",
       "      <td>3.542081e-01</td>\n",
       "      <td>0.365925</td>\n",
       "    </tr>\n",
       "    <tr>\n",
       "      <th>2</th>\n",
       "      <td>0.000007</td>\n",
       "      <td>8.928399e-04</td>\n",
       "      <td>-0.001683</td>\n",
       "      <td>-1.194805e-03</td>\n",
       "      <td>-0.006857</td>\n",
       "      <td>0.003740</td>\n",
       "      <td>-0.019168</td>\n",
       "      <td>-0.001270</td>\n",
       "      <td>0.009886</td>\n",
       "      <td>-1.088568e-04</td>\n",
       "      <td>...</td>\n",
       "      <td>0.046688</td>\n",
       "      <td>-0.041931</td>\n",
       "      <td>-0.005538</td>\n",
       "      <td>-0.494662</td>\n",
       "      <td>0.831085</td>\n",
       "      <td>-0.236009</td>\n",
       "      <td>-0.060956</td>\n",
       "      <td>0.009215</td>\n",
       "      <td>1.258112e-03</td>\n",
       "      <td>-0.006364</td>\n",
       "    </tr>\n",
       "    <tr>\n",
       "      <th>3</th>\n",
       "      <td>0.000034</td>\n",
       "      <td>2.017827e-02</td>\n",
       "      <td>0.006339</td>\n",
       "      <td>8.110235e-03</td>\n",
       "      <td>-0.083100</td>\n",
       "      <td>0.005661</td>\n",
       "      <td>-0.189498</td>\n",
       "      <td>-0.048477</td>\n",
       "      <td>-0.032933</td>\n",
       "      <td>-6.832059e-04</td>\n",
       "      <td>...</td>\n",
       "      <td>0.093280</td>\n",
       "      <td>-0.168462</td>\n",
       "      <td>0.021224</td>\n",
       "      <td>0.587939</td>\n",
       "      <td>0.131548</td>\n",
       "      <td>-0.670864</td>\n",
       "      <td>-0.005375</td>\n",
       "      <td>0.000655</td>\n",
       "      <td>-4.414962e-03</td>\n",
       "      <td>0.002784</td>\n",
       "    </tr>\n",
       "  </tbody>\n",
       "</table>\n",
       "<p>4 rows × 22 columns</p>\n",
       "</div>"
      ],
      "text/plain": [
       "    backers  main_category_Comics  main_category_Crafts  main_category_Dance  \\\n",
       "0  1.000000          2.129121e-08             -0.000001        -5.981350e-07   \n",
       "1  0.000002          1.596152e-05              0.000195        -1.494339e-05   \n",
       "2  0.000007          8.928399e-04             -0.001683        -1.194805e-03   \n",
       "3  0.000034          2.017827e-02              0.006339         8.110235e-03   \n",
       "\n",
       "   main_category_Design  main_category_Fashion  main_category_Film & Video  \\\n",
       "0              0.000013              -0.000003                   -0.000009   \n",
       "1             -0.000339              -0.001806                   -0.000077   \n",
       "2             -0.006857               0.003740                   -0.019168   \n",
       "3             -0.083100               0.005661                   -0.189498   \n",
       "\n",
       "   main_category_Food  main_category_Games  main_category_Journalism  \\\n",
       "0           -0.000003             0.000026             -3.025907e-07   \n",
       "1            0.000548            -0.000364             -1.376734e-04   \n",
       "2           -0.001270             0.009886             -1.088568e-04   \n",
       "3           -0.048477            -0.032933             -6.832059e-04   \n",
       "\n",
       "           ...            main_category_Publishing  main_category_Technology  \\\n",
       "0          ...                           -0.000007                  0.000002   \n",
       "1          ...                            0.001888                 -0.001605   \n",
       "2          ...                            0.046688                 -0.041931   \n",
       "3          ...                            0.093280                 -0.168462   \n",
       "\n",
       "   main_category_Theater  goal_cat_Low  goal_cat_Medium  goal_cat_VeryHigh  \\\n",
       "0              -0.000002     -0.000016        -0.000010           0.000029   \n",
       "1               0.001065     -0.005738         0.007047          -0.004445   \n",
       "2              -0.005538     -0.494662         0.831085          -0.236009   \n",
       "3               0.021224      0.587939         0.131548          -0.670864   \n",
       "\n",
       "   goal_cat_VeryLow  duration_cat_Medium  duration_cat_Short  \\\n",
       "0         -0.000012             0.000002       -8.104089e-07   \n",
       "1          0.001317            -0.860535        3.542081e-01   \n",
       "2         -0.060956             0.009215        1.258112e-03   \n",
       "3         -0.005375             0.000655       -4.414962e-03   \n",
       "\n",
       "   duration_cat_VeryLong  \n",
       "0              -0.000001  \n",
       "1               0.365925  \n",
       "2              -0.006364  \n",
       "3               0.002784  \n",
       "\n",
       "[4 rows x 22 columns]"
      ]
     },
     "execution_count": 14,
     "metadata": {},
     "output_type": "execute_result"
    }
   ],
   "source": [
    "df_comp = pd.DataFrame(pca.components_,columns=list(X))\n",
    "df_comp"
   ]
  },
  {
   "cell_type": "code",
   "execution_count": 15,
   "metadata": {},
   "outputs": [
    {
     "data": {
      "text/plain": [
       "<matplotlib.axes._subplots.AxesSubplot at 0x1f84483e940>"
      ]
     },
     "execution_count": 15,
     "metadata": {},
     "output_type": "execute_result"
    },
    {
     "data": {
      "image/png": "[encoded data removed]",
      "text/plain": [
       "<matplotlib.figure.Figure at 0x1f84481b5f8>"
      ]
     },
     "metadata": {},
     "output_type": "display_data"
    }
   ],
   "source": [
    "plt.figure(figsize=(10,8))\n",
    "sns.heatmap(df_comp,cmap='plasma')"
   ]
  },
  {
   "cell_type": "code",
   "execution_count": 17,
   "metadata": {},
   "outputs": [
    {
     "data": {
      "image/png": "[encoded data removed]",
      "text/plain": [
       "<matplotlib.figure.Figure at 0x1f844c5f208>"
      ]
     },
     "metadata": {},
     "output_type": "display_data"
    }
   ],
   "source": [
    "pca = PCA().fit(X)\n",
    "#Plotting the Cumulative Summation of the Explained Variance\n",
    "plt.figure()\n",
    "plt.plot(np.cumsum(pca.explained_variance_ratio_))\n",
    "plt.xlabel('Number of Components')\n",
    "plt.ylabel('Variance (%)') #for each component\n",
    "plt.title('Kick-Starter data-set Explained Variace')\n",
    "plt.show()"
   ]
  },
  {
   "cell_type": "code",
   "execution_count": null,
   "metadata": {},
   "outputs": [],
   "source": []
  },
  {
   "cell_type": "code",
   "execution_count": null,
   "metadata": {
    "collapsed": true
   },
   "outputs": [],
   "source": []
  }
 ],
 "metadata": {
  "kernelspec": {
   "display_name": "Python 3",
   "language": "python",
   "name": "python3"
  },
  "language_info": {
   "codemirror_mode": {
    "name": "ipython",
    "version": 3
   },
   "file_extension": ".py",
   "mimetype": "text/x-python",
   "name": "python",
   "nbconvert_exporter": "python",
   "pygments_lexer": "ipython3",
   "version": "3.6.3"
  }
 },
 "nbformat": 4,
 "nbformat_minor": 2
}
