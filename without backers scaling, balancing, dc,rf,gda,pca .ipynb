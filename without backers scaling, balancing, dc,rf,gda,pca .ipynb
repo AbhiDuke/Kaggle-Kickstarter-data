{
 "cells": [
  {
   "cell_type": "code",
   "execution_count": 54,
   "metadata": {
    "collapsed": true
   },
   "outputs": [],
   "source": [
    "import pandas as pd\n",
    "import numpy as np\n",
    "import matplotlib.pyplot as plt\n",
    "import seaborn as sns\n",
    "%matplotlib inline\n",
    "\n",
    "d = pd.read_csv('CleanDatas.csv',encoding='latin1')\n"
   ]
  },
  {
   "cell_type": "code",
   "execution_count": 63,
   "metadata": {},
   "outputs": [],
   "source": [
    "#d.head()\n"
   ]
  },
  {
   "cell_type": "code",
   "execution_count": 3,
   "metadata": {
    "collapsed": true
   },
   "outputs": [],
   "source": [
    "#sns.pairplot(d[['goal'],['Duration]],hue='state')"
   ]
  },
  {
   "cell_type": "code",
   "execution_count": 4,
   "metadata": {},
   "outputs": [
    {
     "name": "stderr",
     "output_type": "stream",
     "text": [
      "C:\\Users\\AB Duke\\Anaconda3\\lib\\site-packages\\sklearn\\cross_validation.py:41: DeprecationWarning: This module was deprecated in version 0.18 in favor of the model_selection module into which all the refactored classes and functions are moved. Also note that the interface of the new CV iterators are different from that of this module. This module will be removed in 0.20.\n",
      "  \"This module will be removed in 0.20.\", DeprecationWarning)\n"
     ]
    }
   ],
   "source": [
    "from sklearn.cross_validation import train_test_split\n",
    "X=d.drop('state',axis=1,)\n",
    "y=d['state']"
   ]
  },
  {
   "cell_type": "code",
   "execution_count": 5,
   "metadata": {},
   "outputs": [
    {
     "data": {
      "text/html": [
       "<div>\n",
       "<style>\n",
       "    .dataframe thead tr:only-child th {\n",
       "        text-align: right;\n",
       "    }\n",
       "\n",
       "    .dataframe thead th {\n",
       "        text-align: left;\n",
       "    }\n",
       "\n",
       "    .dataframe tbody tr th {\n",
       "        vertical-align: top;\n",
       "    }\n",
       "</style>\n",
       "<table border=\"1\" class=\"dataframe\">\n",
       "  <thead>\n",
       "    <tr style=\"text-align: right;\">\n",
       "      <th></th>\n",
       "      <th>ID</th>\n",
       "      <th>goal</th>\n",
       "      <th>Duration</th>\n",
       "      <th>main_category_Comics</th>\n",
       "      <th>main_category_Crafts</th>\n",
       "      <th>main_category_Dance</th>\n",
       "      <th>main_category_Design</th>\n",
       "      <th>main_category_Fashion</th>\n",
       "      <th>main_category_Film &amp; Video</th>\n",
       "      <th>main_category_Food</th>\n",
       "      <th>main_category_Games</th>\n",
       "      <th>main_category_Journalism</th>\n",
       "      <th>main_category_Music</th>\n",
       "      <th>main_category_Photography</th>\n",
       "      <th>main_category_Publishing</th>\n",
       "      <th>main_category_Technology</th>\n",
       "      <th>main_category_Theater</th>\n",
       "    </tr>\n",
       "  </thead>\n",
       "  <tbody>\n",
       "    <tr>\n",
       "      <th>0</th>\n",
       "      <td>1000003930</td>\n",
       "      <td>30000.0</td>\n",
       "      <td>45.0</td>\n",
       "      <td>0</td>\n",
       "      <td>0</td>\n",
       "      <td>0</td>\n",
       "      <td>0</td>\n",
       "      <td>0</td>\n",
       "      <td>1</td>\n",
       "      <td>0</td>\n",
       "      <td>0</td>\n",
       "      <td>0</td>\n",
       "      <td>0</td>\n",
       "      <td>0</td>\n",
       "      <td>0</td>\n",
       "      <td>0</td>\n",
       "      <td>0</td>\n",
       "    </tr>\n",
       "    <tr>\n",
       "      <th>1</th>\n",
       "      <td>1000004038</td>\n",
       "      <td>45000.0</td>\n",
       "      <td>30.0</td>\n",
       "      <td>0</td>\n",
       "      <td>0</td>\n",
       "      <td>0</td>\n",
       "      <td>0</td>\n",
       "      <td>0</td>\n",
       "      <td>1</td>\n",
       "      <td>0</td>\n",
       "      <td>0</td>\n",
       "      <td>0</td>\n",
       "      <td>0</td>\n",
       "      <td>0</td>\n",
       "      <td>0</td>\n",
       "      <td>0</td>\n",
       "      <td>0</td>\n",
       "    </tr>\n",
       "    <tr>\n",
       "      <th>2</th>\n",
       "      <td>1000007540</td>\n",
       "      <td>5000.0</td>\n",
       "      <td>35.0</td>\n",
       "      <td>0</td>\n",
       "      <td>0</td>\n",
       "      <td>0</td>\n",
       "      <td>0</td>\n",
       "      <td>0</td>\n",
       "      <td>0</td>\n",
       "      <td>0</td>\n",
       "      <td>0</td>\n",
       "      <td>0</td>\n",
       "      <td>1</td>\n",
       "      <td>0</td>\n",
       "      <td>0</td>\n",
       "      <td>0</td>\n",
       "      <td>0</td>\n",
       "    </tr>\n",
       "    <tr>\n",
       "      <th>3</th>\n",
       "      <td>1000014025</td>\n",
       "      <td>50000.0</td>\n",
       "      <td>45.0</td>\n",
       "      <td>0</td>\n",
       "      <td>0</td>\n",
       "      <td>0</td>\n",
       "      <td>0</td>\n",
       "      <td>0</td>\n",
       "      <td>0</td>\n",
       "      <td>1</td>\n",
       "      <td>0</td>\n",
       "      <td>0</td>\n",
       "      <td>0</td>\n",
       "      <td>0</td>\n",
       "      <td>0</td>\n",
       "      <td>0</td>\n",
       "      <td>0</td>\n",
       "    </tr>\n",
       "    <tr>\n",
       "      <th>4</th>\n",
       "      <td>1000023410</td>\n",
       "      <td>1000.0</td>\n",
       "      <td>30.0</td>\n",
       "      <td>0</td>\n",
       "      <td>0</td>\n",
       "      <td>0</td>\n",
       "      <td>0</td>\n",
       "      <td>0</td>\n",
       "      <td>0</td>\n",
       "      <td>1</td>\n",
       "      <td>0</td>\n",
       "      <td>0</td>\n",
       "      <td>0</td>\n",
       "      <td>0</td>\n",
       "      <td>0</td>\n",
       "      <td>0</td>\n",
       "      <td>0</td>\n",
       "    </tr>\n",
       "  </tbody>\n",
       "</table>\n",
       "</div>"
      ],
      "text/plain": [
       "           ID     goal  Duration  main_category_Comics  main_category_Crafts  \\\n",
       "0  1000003930  30000.0      45.0                     0                     0   \n",
       "1  1000004038  45000.0      30.0                     0                     0   \n",
       "2  1000007540   5000.0      35.0                     0                     0   \n",
       "3  1000014025  50000.0      45.0                     0                     0   \n",
       "4  1000023410   1000.0      30.0                     0                     0   \n",
       "\n",
       "   main_category_Dance  main_category_Design  main_category_Fashion  \\\n",
       "0                    0                     0                      0   \n",
       "1                    0                     0                      0   \n",
       "2                    0                     0                      0   \n",
       "3                    0                     0                      0   \n",
       "4                    0                     0                      0   \n",
       "\n",
       "   main_category_Film & Video  main_category_Food  main_category_Games  \\\n",
       "0                           1                   0                    0   \n",
       "1                           1                   0                    0   \n",
       "2                           0                   0                    0   \n",
       "3                           0                   1                    0   \n",
       "4                           0                   1                    0   \n",
       "\n",
       "   main_category_Journalism  main_category_Music  main_category_Photography  \\\n",
       "0                         0                    0                          0   \n",
       "1                         0                    0                          0   \n",
       "2                         0                    1                          0   \n",
       "3                         0                    0                          0   \n",
       "4                         0                    0                          0   \n",
       "\n",
       "   main_category_Publishing  main_category_Technology  main_category_Theater  \n",
       "0                         0                         0                      0  \n",
       "1                         0                         0                      0  \n",
       "2                         0                         0                      0  \n",
       "3                         0                         0                      0  \n",
       "4                         0                         0                      0  "
      ]
     },
     "execution_count": 5,
     "metadata": {},
     "output_type": "execute_result"
    }
   ],
   "source": [
    "X.head()"
   ]
  },
  {
   "cell_type": "code",
   "execution_count": 6,
   "metadata": {},
   "outputs": [
    {
     "data": {
      "text/plain": [
       "0    0\n",
       "1    0\n",
       "2    0\n",
       "3    1\n",
       "4    1\n",
       "Name: state, dtype: int64"
      ]
     },
     "execution_count": 6,
     "metadata": {},
     "output_type": "execute_result"
    }
   ],
   "source": [
    "y.head()"
   ]
  },
  {
   "cell_type": "code",
   "execution_count": 38,
   "metadata": {
    "collapsed": true
   },
   "outputs": [],
   "source": [
    " X_train, X_test, y_train, y_test = train_test_split(X, y, test_size=0.30,stratify=y )"
   ]
  },
  {
   "cell_type": "code",
   "execution_count": 39,
   "metadata": {
    "collapsed": true
   },
   "outputs": [],
   "source": [
    "from sklearn.tree import DecisionTreeClassifier\n",
    "dtree=DecisionTreeClassifier(criterion='gini')\n",
    "dtree.fit(X_train,y_train)\n",
    "imp_fe=dtree.feature_importances_\n",
    "\n"
   ]
  },
  {
   "cell_type": "code",
   "execution_count": 40,
   "metadata": {
    "collapsed": true
   },
   "outputs": [],
   "source": [
    "prediction = dtree.predict(X_test)"
   ]
  },
  {
   "cell_type": "code",
   "execution_count": 41,
   "metadata": {
    "collapsed": true
   },
   "outputs": [],
   "source": [
    "from sklearn.metrics import classification_report,confusion_matrix,accuracy_score"
   ]
  },
  {
   "cell_type": "code",
   "execution_count": 42,
   "metadata": {},
   "outputs": [
    {
     "name": "stdout",
     "output_type": "stream",
     "text": [
      "[[29266 16883]\n",
      " [16599 14318]]\n",
      "\n",
      "\n",
      "             precision    recall  f1-score   support\n",
      "\n",
      "          0       0.64      0.63      0.64     46149\n",
      "          1       0.46      0.46      0.46     30917\n",
      "\n",
      "avg / total       0.57      0.57      0.57     77066\n",
      "\n",
      "\n",
      "\n",
      "0.5655412244050554\n",
      "\n",
      "\n",
      "Accuracy on training set:1.000\n",
      "Accuracy on training set:0.566\n"
     ]
    }
   ],
   "source": [
    "print (confusion_matrix(y_test,prediction))\n",
    "print('\\n')\n",
    "print (classification_report(y_test,prediction))\n",
    "print('\\n')\n",
    "print (accuracy_score(y_test,prediction))\n",
    "print('\\n')\n",
    "print ('Accuracy on training set:{:.3f}'.format(dtree.score(X_train,y_train)))\n",
    "print ('Accuracy on training set:{:.3f}'.format(dtree.score(X_test,y_test)))"
   ]
  },
  {
   "cell_type": "code",
   "execution_count": 12,
   "metadata": {
    "collapsed": true
   },
   "outputs": [],
   "source": [
    "from sklearn.ensemble import RandomForestClassifier\n",
    "rfc = RandomForestClassifier(n_estimators=12)\n",
    "rfc.fit(X_train,y_train)\n",
    "rfc_pred = rfc.predict(X_test)"
   ]
  },
  {
   "cell_type": "code",
   "execution_count": 13,
   "metadata": {},
   "outputs": [
    {
     "name": "stdout",
     "output_type": "stream",
     "text": [
      "[[55050 21865]\n",
      " [30589 20939]]\n",
      "\n",
      "\n",
      "             precision    recall  f1-score   support\n",
      "\n",
      "          0       0.64      0.72      0.68     76915\n",
      "          1       0.49      0.41      0.44     51528\n",
      "\n",
      "avg / total       0.58      0.59      0.58    128443\n",
      "\n",
      "\n",
      "\n",
      "0.5916165147185911\n"
     ]
    }
   ],
   "source": [
    "print (confusion_matrix(y_test,rfc_pred))\n",
    "print('\\n')\n",
    "print (classification_report(y_test,rfc_pred))\n",
    "print('\\n')\n",
    "print (accuracy_score(y_test,rfc_pred))"
   ]
  },
  {
   "cell_type": "code",
   "execution_count": 14,
   "metadata": {},
   "outputs": [
    {
     "data": {
      "text/plain": [
       "<matplotlib.axes._subplots.AxesSubplot at 0x2b9c946b240>"
      ]
     },
     "execution_count": 14,
     "metadata": {},
     "output_type": "execute_result"
    },
    {
     "data": {
      "image/png": "[encoded data removed]",
      "text/plain": [
       "<matplotlib.figure.Figure at 0x2b9c414fc88>"
      ]
     },
     "metadata": {},
     "output_type": "display_data"
    }
   ],
   "source": [
    "sns.countplot(d['state'])"
   ]
  },
  {
   "cell_type": "code",
   "execution_count": 15,
   "metadata": {
    "collapsed": true
   },
   "outputs": [],
   "source": [
    "\n",
    "#d[d['state']==1]['goal'].hist(bins=35,figsize=(10,10),color='blue',label = 'succes',alpha = 0.6)\n",
    "\n",
    "#plt.legend()\n"
   ]
  },
  {
   "cell_type": "code",
   "execution_count": 16,
   "metadata": {
    "collapsed": true
   },
   "outputs": [],
   "source": [
    "#d[d['state']==0]['goal'].hist(bins=35,figsize=(10,10),color='red',label='failure',alpha = 0.6)"
   ]
  },
  {
   "cell_type": "code",
   "execution_count": 35,
   "metadata": {},
   "outputs": [
    {
     "data": {
      "text/plain": [
       "(256886, 17)"
      ]
     },
     "execution_count": 35,
     "metadata": {},
     "output_type": "execute_result"
    }
   ],
   "source": [
    "# scaling\n",
    "from sklearn.preprocessing import StandardScaler \n",
    "scaler = StandardScaler()\n",
    "scaler.fit(X)\n",
    "scaled_data = scaler.transform(X)\n",
    "scaled_data.shape"
   ]
  },
  {
   "cell_type": "code",
   "execution_count": 36,
   "metadata": {},
   "outputs": [],
   "source": [
    "d_scale = pd.DataFrame(scaled_data,columns=list(X))"
   ]
  },
  {
   "cell_type": "code",
   "execution_count": 51,
   "metadata": {},
   "outputs": [
    {
     "name": "stdout",
     "output_type": "stream",
     "text": [
      "[[32194 18571]\n",
      " [18358 15650]]\n",
      "\n",
      "\n",
      "             precision    recall  f1-score   support\n",
      "\n",
      "          0       0.64      0.63      0.64     50765\n",
      "          1       0.46      0.46      0.46     34008\n",
      "\n",
      "avg / total       0.56      0.56      0.56     84773\n",
      "\n",
      "\n",
      "\n",
      "0.5643778089721964\n",
      "Accuracy on training set:1.000\n",
      "Accuracy on testing set:0.564\n"
     ]
    }
   ],
   "source": [
    "# decision tree for scaled data\n",
    "X_train, X_test, y_train, y_test = train_test_split(d_scale, d['state'], test_size=0.33,stratify=d['state'])\n",
    "dtree.fit(X_train,y_train)\n",
    "scale_pred = dtree.predict(X_test)\n",
    "print(confusion_matrix(y_test,scale_pred))\n",
    "print('\\n')\n",
    "print(classification_report(y_test,scale_pred))\n",
    "print('\\n')\n",
    "print(accuracy_score(y_test,scale_pred))\n",
    "print ('Accuracy on training set:{:.3f}'.format(dtree.score(X_train,y_train)))\n",
    "print ('Accuracy on testing set:{:.3f}'.format(dtree.score(X_test,y_test)))\n",
    "\n"
   ]
  },
  {
   "cell_type": "code",
   "execution_count": 20,
   "metadata": {},
   "outputs": [
    {
     "name": "stdout",
     "output_type": "stream",
     "text": [
      "[[36133 14632]\n",
      " [19968 14040]]\n",
      "\n",
      "\n",
      "             precision    recall  f1-score   support\n",
      "\n",
      "          0       0.64      0.71      0.68     50765\n",
      "          1       0.49      0.41      0.45     34008\n",
      "\n",
      "avg / total       0.58      0.59      0.58     84773\n",
      "\n",
      "\n",
      "\n",
      "0.5918511790310594\n"
     ]
    }
   ],
   "source": [
    "rfc.fit(X_train,y_train)\n",
    "scarfc_pred=rfc.predict(X_test)\n",
    "print(confusion_matrix(y_test,scarfc_pred))\n",
    "print('\\n')\n",
    "print(classification_report(y_test,scarfc_pred))\n",
    "print('\\n')\n",
    "print(accuracy_score(y_test,scarfc_pred))"
   ]
  },
  {
   "cell_type": "code",
   "execution_count": 32,
   "metadata": {},
   "outputs": [
    {
     "name": "stdout",
     "output_type": "stream",
     "text": [
      "<class 'pandas.core.frame.DataFrame'>\n",
      "RangeIndex: 100000 entries, 0 to 99999\n",
      "Data columns (total 21 columns):\n",
      "main_category_Comics          100000 non-null int64\n",
      "main_category_Crafts          100000 non-null int64\n",
      "main_category_Dance           100000 non-null int64\n",
      "main_category_Design          100000 non-null int64\n",
      "main_category_Fashion         100000 non-null int64\n",
      "main_category_Film & Video    100000 non-null int64\n",
      "main_category_Food            100000 non-null int64\n",
      "main_category_Games           100000 non-null int64\n",
      "main_category_Journalism      100000 non-null int64\n",
      "main_category_Music           100000 non-null int64\n",
      "main_category_Photography     100000 non-null int64\n",
      "main_category_Publishing      100000 non-null int64\n",
      "main_category_Technology      100000 non-null int64\n",
      "main_category_Theater         100000 non-null int64\n",
      "goal_cat_Low                  100000 non-null int64\n",
      "goal_cat_Medium               100000 non-null int64\n",
      "goal_cat_VeryHigh             100000 non-null int64\n",
      "goal_cat_VeryLow              100000 non-null int64\n",
      "duration_cat_Medium           100000 non-null int64\n",
      "duration_cat_Short            100000 non-null int64\n",
      "duration_cat_VeryLong         100000 non-null int64\n",
      "dtypes: int64(21)\n",
      "memory usage: 16.0 MB\n"
     ]
    }
   ],
   "source": [
    "# using 50%-50% data\n",
    "df_bal = pd.read_csv('ClassbalKS.csv')\n",
    "df_bal.head()\n",
    "new_X=df_bal.drop(['state','ID'],axis=1)\n",
    "new_X.head()\n",
    "new_X.info()"
   ]
  },
  {
   "cell_type": "code",
   "execution_count": 64,
   "metadata": {},
   "outputs": [
    {
     "name": "stdout",
     "output_type": "stream",
     "text": [
      "[[ 9636  6864]\n",
      " [ 5571 10929]]\n",
      "\n",
      "\n",
      "             precision    recall  f1-score   support\n",
      "\n",
      "          0       0.63      0.58      0.61     16500\n",
      "          1       0.61      0.66      0.64     16500\n",
      "\n",
      "avg / total       0.62      0.62      0.62     33000\n",
      "\n",
      "\n",
      "\n",
      "0.6231818181818182\n",
      "Accuracy on training set:0.632\n",
      "Accuracy on testing set:0.623\n"
     ]
    }
   ],
   "source": [
    "# decision tree for balanced data set\n",
    "X_train, X_test, y_train, y_test = train_test_split(new_X, df_bal['state'], test_size=0.33,stratify=df_bal['state'])\n",
    "dtree.fit(X_train,y_train)\n",
    "bal_pred = dtree.predict(X_test)\n",
    "print(confusion_matrix(y_test,bal_pred))\n",
    "print('\\n')\n",
    "print(classification_report(y_test,bal_pred))\n",
    "print('\\n')\n",
    "print(accuracy_score(y_test,bal_pred))\n",
    "print ('Accuracy on training set:{:.3f}'.format(dtree.score(X_train,y_train)))\n",
    "print ('Accuracy on testing set:{:.3f}'.format(dtree.score(X_test,y_test)))\n",
    "\n"
   ]
  },
  {
   "cell_type": "code",
   "execution_count": 23,
   "metadata": {},
   "outputs": [
    {
     "name": "stdout",
     "output_type": "stream",
     "text": [
      "[[ 9353  7147]\n",
      " [ 5265 11235]]\n",
      "\n",
      "\n",
      "             precision    recall  f1-score   support\n",
      "\n",
      "          0       0.64      0.57      0.60     16500\n",
      "          1       0.61      0.68      0.64     16500\n",
      "\n",
      "avg / total       0.63      0.62      0.62     33000\n",
      "\n",
      "\n",
      "\n",
      "0.6238787878787879\n"
     ]
    }
   ],
   "source": [
    "rfc.fit(X_train,y_train)\n",
    "rfcbal_pred = rfc.predict(X_test)\n",
    "print(confusion_matrix(y_test,rfcbal_pred))\n",
    "print('\\n')\n",
    "print(classification_report(y_test,rfcbal_pred))\n",
    "print('\\n')\n",
    "print(accuracy_score(y_test,rfcbal_pred))\n"
   ]
  },
  {
   "cell_type": "code",
   "execution_count": 24,
   "metadata": {},
   "outputs": [
    {
     "data": {
      "text/plain": [
       "(100000, 21)"
      ]
     },
     "execution_count": 24,
     "metadata": {},
     "output_type": "execute_result"
    }
   ],
   "source": [
    "#BALANCED DATA SET WITH SCALING\n",
    "from sklearn.preprocessing import StandardScaler \n",
    "scaler = StandardScaler()\n",
    "scaler.fit(new_X)\n",
    "scaled_bal = scaler.transform(new_X)\n",
    "scaled_bal.shape\n"
   ]
  },
  {
   "cell_type": "code",
   "execution_count": 25,
   "metadata": {},
   "outputs": [
    {
     "name": "stdout",
     "output_type": "stream",
     "text": [
      "[[ 9799  6701]\n",
      " [ 5643 10857]]\n",
      "\n",
      "\n",
      "             precision    recall  f1-score   support\n",
      "\n",
      "          0       0.63      0.59      0.61     16500\n",
      "          1       0.62      0.66      0.64     16500\n",
      "\n",
      "avg / total       0.63      0.63      0.63     33000\n",
      "\n",
      "\n",
      "\n",
      "0.6259393939393939\n",
      "imp:\n",
      "[0.01217639 0.03773541 0.01417139 0.00823072 0.06746992 0.00445606\n",
      " 0.0204857  0.01177047 0.01324886 0.01506386 0.01853069 0.07881025\n",
      " 0.11883286 0.0271507  0.0651156  0.0252871  0.38083451 0.05232896\n",
      " 0.00644005 0.01166992 0.0101906 ]\n"
     ]
    }
   ],
   "source": [
    "#decision tree for balanced and scaled data set\n",
    "X_train, X_test, y_train, y_test = train_test_split(scaled_bal, df_bal['state'], test_size=0.33,stratify=df_bal['state'])\n",
    "dtree.fit(X_train,y_train)\n",
    "bal_scale_pred = dtree.predict(X_test)\n",
    "print(confusion_matrix(y_test,bal_scale_pred))\n",
    "print('\\n')\n",
    "print(classification_report(y_test,bal_scale_pred))\n",
    "print('\\n')\n",
    "print(accuracy_score(y_test,bal_scale_pred))\n",
    "print('imp:\\n{}'.format(dtree.feature_importances_))"
   ]
  },
  {
   "cell_type": "code",
   "execution_count": 26,
   "metadata": {},
   "outputs": [
    {
     "name": "stdout",
     "output_type": "stream",
     "text": [
      "[[ 9749  6751]\n",
      " [ 5610 10890]]\n",
      "\n",
      "\n",
      "             precision    recall  f1-score   support\n",
      "\n",
      "          0       0.63      0.59      0.61     16500\n",
      "          1       0.62      0.66      0.64     16500\n",
      "\n",
      "avg / total       0.63      0.63      0.62     33000\n",
      "\n",
      "\n",
      "\n",
      "0.6254242424242424\n"
     ]
    }
   ],
   "source": [
    "#random forest scaled and balanced data\n",
    "rfc.fit(X_train,y_train)\n",
    "rfcscale_bal_pred = rfc.predict(X_test)\n",
    "print(confusion_matrix(y_test,rfcscale_bal_pred))\n",
    "print('\\n')\n",
    "print(classification_report(y_test,rfcscale_bal_pred))\n",
    "print('\\n')\n",
    "print(accuracy_score(y_test,rfcscale_bal_pred))\n"
   ]
  },
  {
   "cell_type": "code",
   "execution_count": 46,
   "metadata": {},
   "outputs": [
    {
     "name": "stdout",
     "output_type": "stream",
     "text": [
      "[[35810 10339]\n",
      " [17046 13871]]\n",
      "\n",
      "\n",
      "             precision    recall  f1-score   support\n",
      "\n",
      "          0       0.68      0.78      0.72     46149\n",
      "          1       0.57      0.45      0.50     30917\n",
      "\n",
      "avg / total       0.64      0.64      0.64     77066\n",
      "\n",
      "\n",
      "\n",
      "0.6446552305815795\n",
      "Accuracy on training set:0.645\n",
      "Accuracy on testing set:0.645\n"
     ]
    }
   ],
   "source": [
    "from sklearn.ensemble import GradientBoostingClassifier\n",
    "gradt=GradientBoostingClassifier(random_state=0,max_depth=3)\n",
    "gradt.fit(X_train,y_train)\n",
    "grade_pred = gradt.predict(X_test)\n",
    "print(confusion_matrix(y_test,grade_pred))\n",
    "print('\\n')\n",
    "print(classification_report(y_test,grade_pred))\n",
    "print('\\n')\n",
    "print(accuracy_score(y_test,grade_pred))\n",
    "print ('Accuracy on training set:{:.3f}'.format(gradt.score(X_train,y_train)))\n",
    "print ('Accuracy on testing set:{:.3f}'.format(gradt.score(X_test,y_test)))\n"
   ]
  },
  {
   "cell_type": "code",
   "execution_count": 28,
   "metadata": {},
   "outputs": [
    {
     "name": "stdout",
     "output_type": "stream",
     "text": [
      "Accuracy on training set:0.614\n",
      "Accuracy on training set:0.614\n",
      "imp features :\n",
      "[1.91940004e-03 3.96620409e-03 0.00000000e+00 1.15371774e-02\n",
      " 5.29031547e-02 0.00000000e+00 5.91702707e-03 1.44047530e-02\n",
      " 0.00000000e+00 4.01837935e-02 0.00000000e+00 4.58862361e-02\n",
      " 1.20076159e-01 4.55128826e-02 5.85248729e-02 0.00000000e+00\n",
      " 5.48660686e-01 4.93458913e-02 0.00000000e+00 1.05159177e-03\n",
      " 1.10170503e-04]\n"
     ]
    }
   ],
   "source": [
    "gradt=GradientBoostingClassifier(random_state=0,learning_rate=0.01)\n",
    "gradt.fit(X_train,y_train)\n",
    "print ('Accuracy on training set:{:.3f}'.format(gradt.score(X_train,y_train)))\n",
    "print ('Accuracy on training set:{:.3f}'.format(gradt.score(X_test,y_test)))\n",
    "print ('imp features :\\n{}'.format(gradt.feature_importances_))"
   ]
  },
  {
   "cell_type": "code",
   "execution_count": 65,
   "metadata": {},
   "outputs": [],
   "source": [
    "#def plot_important1(model):\n",
    "  #  n_features = scaled_bal.data.shape[1]\n",
    "   # plt.barh(range(n_features),model.feature_importances_,align = 'center')\n",
    "   # plt.yticks(np.arange(n_features),d_scale.feature_names)\n",
    "   # plt.xlabel('Feature Imp')\n",
    "   # plt.ylabel('feature')\n",
    "    #plt.ylim(-1,n_features)\n",
    "    \n",
    "#plot_important1(dtree)"
   ]
  },
  {
   "cell_type": "code",
   "execution_count": 18,
   "metadata": {},
   "outputs": [
    {
     "data": {
      "text/plain": [
       "(256886, 4)"
      ]
     },
     "execution_count": 18,
     "metadata": {},
     "output_type": "execute_result"
    }
   ],
   "source": [
    "#pca 2 comp\n",
    "from sklearn.decomposition import PCA\n",
    "pca = PCA(n_components=4)\n",
    "pca.fit(X)\n",
    "x_pca= pca.transform(X)\n",
    "x_pca.shape"
   ]
  },
  {
   "cell_type": "code",
   "execution_count": 19,
   "metadata": {},
   "outputs": [
    {
     "data": {
      "text/plain": [
       "Text(0,0.5,'second PC')"
      ]
     },
     "execution_count": 19,
     "metadata": {},
     "output_type": "execute_result"
    },
    {
     "data": {
      "image/png": "[encoded data removed]",
      "text/plain": [
       "<matplotlib.figure.Figure at 0x2b9cfc607f0>"
      ]
     },
     "metadata": {},
     "output_type": "display_data"
    }
   ],
   "source": [
    "plt.figure(figsize=(10,6))\n",
    "plt.scatter(x_pca[:,0],x_pca[:,0],c=y,cmap='plasma')\n",
    "plt.xlabel('First PC')\n",
    "plt.ylabel('second PC')"
   ]
  },
  {
   "cell_type": "code",
   "execution_count": 20,
   "metadata": {},
   "outputs": [
    {
     "data": {
      "text/plain": [
       "array([[-1.00000000e+00, -2.70648692e-06, -4.80778985e-11,\n",
       "         8.18131336e-13,  2.99668295e-13,  3.65892477e-13,\n",
       "        -7.52622022e-13,  4.58950484e-13,  4.56524726e-13,\n",
       "        -1.11105768e-12,  5.58327512e-13, -8.20370688e-14,\n",
       "        -1.51121631e-13,  2.83073251e-13, -5.70846474e-14,\n",
       "        -4.43062416e-13, -5.81679379e-14],\n",
       "       [-2.70648692e-06,  1.00000000e+00,  5.95822284e-09,\n",
       "        -3.39032652e-10, -3.56975348e-10, -2.50819802e-10,\n",
       "        -6.21373635e-10, -8.73598905e-10,  2.82587494e-09,\n",
       "         6.55775541e-10, -3.92820384e-10, -2.51267908e-11,\n",
       "        -3.50787527e-09, -5.58187486e-10, -2.17620077e-09,\n",
       "         5.83566638e-09, -6.55798769e-10],\n",
       "       [-4.80616510e-11, -5.95775074e-09,  9.99999987e-01,\n",
       "         1.83783721e-06, -1.81910082e-05, -5.24467523e-06,\n",
       "        -6.78614113e-05, -1.78894138e-05,  6.53957863e-05,\n",
       "        -2.71254986e-05,  4.42629140e-06, -4.87835176e-06,\n",
       "         1.22911030e-05, -1.10329128e-06,  1.01602503e-04,\n",
       "        -7.21140095e-05,  2.75807929e-05],\n",
       "       [ 5.27932359e-13, -4.03533930e-09, -5.10684219e-05,\n",
       "        -1.05484004e-02, -5.22370763e-03, -3.12035491e-03,\n",
       "        -6.68503365e-02, -3.28783720e-02,  8.78340594e-01,\n",
       "        -2.88207596e-02, -7.35789981e-02, -1.39078621e-03,\n",
       "        -4.49594429e-01, -7.65160463e-03, -1.03626363e-01,\n",
       "        -5.94195080e-02, -1.05029868e-02]])"
      ]
     },
     "execution_count": 20,
     "metadata": {},
     "output_type": "execute_result"
    }
   ],
   "source": [
    "pca.components_"
   ]
  },
  {
   "cell_type": "code",
   "execution_count": 21,
   "metadata": {},
   "outputs": [
    {
     "data": {
      "text/html": [
       "<div>\n",
       "<style>\n",
       "    .dataframe thead tr:only-child th {\n",
       "        text-align: right;\n",
       "    }\n",
       "\n",
       "    .dataframe thead th {\n",
       "        text-align: left;\n",
       "    }\n",
       "\n",
       "    .dataframe tbody tr th {\n",
       "        vertical-align: top;\n",
       "    }\n",
       "</style>\n",
       "<table border=\"1\" class=\"dataframe\">\n",
       "  <thead>\n",
       "    <tr style=\"text-align: right;\">\n",
       "      <th></th>\n",
       "      <th>ID</th>\n",
       "      <th>goal</th>\n",
       "      <th>Duration</th>\n",
       "      <th>main_category_Comics</th>\n",
       "      <th>main_category_Crafts</th>\n",
       "      <th>main_category_Dance</th>\n",
       "      <th>main_category_Design</th>\n",
       "      <th>main_category_Fashion</th>\n",
       "      <th>main_category_Film &amp; Video</th>\n",
       "      <th>main_category_Food</th>\n",
       "      <th>main_category_Games</th>\n",
       "      <th>main_category_Journalism</th>\n",
       "      <th>main_category_Music</th>\n",
       "      <th>main_category_Photography</th>\n",
       "      <th>main_category_Publishing</th>\n",
       "      <th>main_category_Technology</th>\n",
       "      <th>main_category_Theater</th>\n",
       "    </tr>\n",
       "  </thead>\n",
       "  <tbody>\n",
       "    <tr>\n",
       "      <th>0</th>\n",
       "      <td>-1.000000e+00</td>\n",
       "      <td>-2.706487e-06</td>\n",
       "      <td>-4.807790e-11</td>\n",
       "      <td>8.181313e-13</td>\n",
       "      <td>2.996683e-13</td>\n",
       "      <td>3.658925e-13</td>\n",
       "      <td>-7.526220e-13</td>\n",
       "      <td>4.589505e-13</td>\n",
       "      <td>4.565247e-13</td>\n",
       "      <td>-1.111058e-12</td>\n",
       "      <td>5.583275e-13</td>\n",
       "      <td>-8.203707e-14</td>\n",
       "      <td>-1.511216e-13</td>\n",
       "      <td>2.830733e-13</td>\n",
       "      <td>-5.708465e-14</td>\n",
       "      <td>-4.430624e-13</td>\n",
       "      <td>-5.816794e-14</td>\n",
       "    </tr>\n",
       "    <tr>\n",
       "      <th>1</th>\n",
       "      <td>-2.706487e-06</td>\n",
       "      <td>1.000000e+00</td>\n",
       "      <td>5.958223e-09</td>\n",
       "      <td>-3.390327e-10</td>\n",
       "      <td>-3.569753e-10</td>\n",
       "      <td>-2.508198e-10</td>\n",
       "      <td>-6.213736e-10</td>\n",
       "      <td>-8.735989e-10</td>\n",
       "      <td>2.825875e-09</td>\n",
       "      <td>6.557755e-10</td>\n",
       "      <td>-3.928204e-10</td>\n",
       "      <td>-2.512679e-11</td>\n",
       "      <td>-3.507875e-09</td>\n",
       "      <td>-5.581875e-10</td>\n",
       "      <td>-2.176201e-09</td>\n",
       "      <td>5.835666e-09</td>\n",
       "      <td>-6.557988e-10</td>\n",
       "    </tr>\n",
       "    <tr>\n",
       "      <th>2</th>\n",
       "      <td>-4.806165e-11</td>\n",
       "      <td>-5.957751e-09</td>\n",
       "      <td>1.000000e+00</td>\n",
       "      <td>1.837837e-06</td>\n",
       "      <td>-1.819101e-05</td>\n",
       "      <td>-5.244675e-06</td>\n",
       "      <td>-6.786141e-05</td>\n",
       "      <td>-1.788941e-05</td>\n",
       "      <td>6.539579e-05</td>\n",
       "      <td>-2.712550e-05</td>\n",
       "      <td>4.426291e-06</td>\n",
       "      <td>-4.878352e-06</td>\n",
       "      <td>1.229110e-05</td>\n",
       "      <td>-1.103291e-06</td>\n",
       "      <td>1.016025e-04</td>\n",
       "      <td>-7.211401e-05</td>\n",
       "      <td>2.758079e-05</td>\n",
       "    </tr>\n",
       "    <tr>\n",
       "      <th>3</th>\n",
       "      <td>5.279324e-13</td>\n",
       "      <td>-4.035339e-09</td>\n",
       "      <td>-5.106842e-05</td>\n",
       "      <td>-1.054840e-02</td>\n",
       "      <td>-5.223708e-03</td>\n",
       "      <td>-3.120355e-03</td>\n",
       "      <td>-6.685034e-02</td>\n",
       "      <td>-3.287837e-02</td>\n",
       "      <td>8.783406e-01</td>\n",
       "      <td>-2.882076e-02</td>\n",
       "      <td>-7.357900e-02</td>\n",
       "      <td>-1.390786e-03</td>\n",
       "      <td>-4.495944e-01</td>\n",
       "      <td>-7.651605e-03</td>\n",
       "      <td>-1.036264e-01</td>\n",
       "      <td>-5.941951e-02</td>\n",
       "      <td>-1.050299e-02</td>\n",
       "    </tr>\n",
       "  </tbody>\n",
       "</table>\n",
       "</div>"
      ],
      "text/plain": [
       "             ID          goal      Duration  main_category_Comics  \\\n",
       "0 -1.000000e+00 -2.706487e-06 -4.807790e-11          8.181313e-13   \n",
       "1 -2.706487e-06  1.000000e+00  5.958223e-09         -3.390327e-10   \n",
       "2 -4.806165e-11 -5.957751e-09  1.000000e+00          1.837837e-06   \n",
       "3  5.279324e-13 -4.035339e-09 -5.106842e-05         -1.054840e-02   \n",
       "\n",
       "   main_category_Crafts  main_category_Dance  main_category_Design  \\\n",
       "0          2.996683e-13         3.658925e-13         -7.526220e-13   \n",
       "1         -3.569753e-10        -2.508198e-10         -6.213736e-10   \n",
       "2         -1.819101e-05        -5.244675e-06         -6.786141e-05   \n",
       "3         -5.223708e-03        -3.120355e-03         -6.685034e-02   \n",
       "\n",
       "   main_category_Fashion  main_category_Film & Video  main_category_Food  \\\n",
       "0           4.589505e-13                4.565247e-13       -1.111058e-12   \n",
       "1          -8.735989e-10                2.825875e-09        6.557755e-10   \n",
       "2          -1.788941e-05                6.539579e-05       -2.712550e-05   \n",
       "3          -3.287837e-02                8.783406e-01       -2.882076e-02   \n",
       "\n",
       "   main_category_Games  main_category_Journalism  main_category_Music  \\\n",
       "0         5.583275e-13             -8.203707e-14        -1.511216e-13   \n",
       "1        -3.928204e-10             -2.512679e-11        -3.507875e-09   \n",
       "2         4.426291e-06             -4.878352e-06         1.229110e-05   \n",
       "3        -7.357900e-02             -1.390786e-03        -4.495944e-01   \n",
       "\n",
       "   main_category_Photography  main_category_Publishing  \\\n",
       "0               2.830733e-13             -5.708465e-14   \n",
       "1              -5.581875e-10             -2.176201e-09   \n",
       "2              -1.103291e-06              1.016025e-04   \n",
       "3              -7.651605e-03             -1.036264e-01   \n",
       "\n",
       "   main_category_Technology  main_category_Theater  \n",
       "0             -4.430624e-13          -5.816794e-14  \n",
       "1              5.835666e-09          -6.557988e-10  \n",
       "2             -7.211401e-05           2.758079e-05  \n",
       "3             -5.941951e-02          -1.050299e-02  "
      ]
     },
     "execution_count": 21,
     "metadata": {},
     "output_type": "execute_result"
    }
   ],
   "source": [
    "df_comp = pd.DataFrame(pca.components_,columns=list(X))\n",
    "df_comp"
   ]
  },
  {
   "cell_type": "code",
   "execution_count": 22,
   "metadata": {},
   "outputs": [
    {
     "data": {
      "text/plain": [
       "<matplotlib.axes._subplots.AxesSubplot at 0x2b9cfc67be0>"
      ]
     },
     "execution_count": 22,
     "metadata": {},
     "output_type": "execute_result"
    },
    {
     "data": {
      "image/png": "[encoded data removed]",
      "text/plain": [
       "<matplotlib.figure.Figure at 0x2b9d009abe0>"
      ]
     },
     "metadata": {},
     "output_type": "display_data"
    }
   ],
   "source": [
    "plt.figure(figsize=(10,8))\n",
    "sns.heatmap(df_comp,cmap='plasma')"
   ]
  },
  {
   "cell_type": "code",
   "execution_count": 43,
   "metadata": {},
   "outputs": [
    {
     "data": {
      "image/png": "[encoded data removed]",
      "text/plain": [
       "<matplotlib.figure.Figure at 0x2b9d0227780>"
      ]
     },
     "metadata": {},
     "output_type": "display_data"
    }
   ],
   "source": [
    "pca = PCA().fit(X)\n",
    "#Plotting the Cumulative Summation of the Explained Variance\n",
    "plt.figure()\n",
    "plt.plot(np.cumsum(pca.explained_variance_ratio_))\n",
    "plt.xlabel('Number of Components')\n",
    "plt.ylabel('Variance (%)') #for each component\n",
    "plt.title('Kick-Starter data-set Explained Variance')\n",
    "plt.show()"
   ]
  },
  {
   "cell_type": "code",
   "execution_count": 60,
   "metadata": {},
   "outputs": [
    {
     "data": {
      "text/plain": [
       "<matplotlib.axes._subplots.AxesSubplot at 0x2b9cc552710>"
      ]
     },
     "execution_count": 60,
     "metadata": {},
     "output_type": "execute_result"
    },
    {
     "data": {
      "image/png": "[encoded data removed]",
      "text/plain": [
       "<matplotlib.figure.Figure at 0x2b9c88117b8>"
      ]
     },
     "metadata": {},
     "output_type": "display_data"
    }
   ],
   "source": [
    "sns.barplot(x='state',y='Duration',data=d,hue='state')"
   ]
  },
  {
   "cell_type": "code",
   "execution_count": 62,
   "metadata": {},
   "outputs": [
    {
     "data": {
      "text/plain": [
       "<matplotlib.axes._subplots.AxesSubplot at 0x2b9c93857b8>"
      ]
     },
     "execution_count": 62,
     "metadata": {},
     "output_type": "execute_result"
    },
    {
     "data": {
      "image/png": "[encoded data removed]",
      "text/plain": [
       "<matplotlib.figure.Figure at 0x2b9bde61518>"
      ]
     },
     "metadata": {},
     "output_type": "display_data"
    }
   ],
   "source": [
    "sns.stripplot(x='state',y='Duration',data=d,hue='state',jitter=True)"
   ]
  },
  {
   "cell_type": "code",
   "execution_count": null,
   "metadata": {
    "collapsed": true
   },
   "outputs": [],
   "source": []
  }
 ],
 "metadata": {
  "kernelspec": {
   "display_name": "Python 3",
   "language": "python",
   "name": "python3"
  },
  "language_info": {
   "codemirror_mode": {
    "name": "ipython",
    "version": 3
   },
   "file_extension": ".py",
   "mimetype": "text/x-python",
   "name": "python",
   "nbconvert_exporter": "python",
   "pygments_lexer": "ipython3",
   "version": "3.6.3"
  }
 },
 "nbformat": 4,
 "nbformat_minor": 2
}
